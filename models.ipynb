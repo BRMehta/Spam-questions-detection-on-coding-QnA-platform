{
 "cells": [
  {
   "cell_type": "code",
   "execution_count": null,
   "metadata": {
    "_cell_guid": "b1076dfc-b9ad-4769-8c92-a6c4dae69d19",
    "_uuid": "8f2839f25d086af736a60e9eeb907d3b93b6e0e5",
    "execution": {
     "iopub.execute_input": "2021-12-06T08:36:05.19143Z",
     "iopub.status.busy": "2021-12-06T08:36:05.190909Z",
     "iopub.status.idle": "2021-12-06T08:36:05.1962Z",
     "shell.execute_reply": "2021-12-06T08:36:05.195598Z",
     "shell.execute_reply.started": "2021-12-06T08:36:05.191379Z"
    }
   },
   "outputs": [],
   "source": [
    "import numpy as np\n",
    "import pandas as pd \n",
    "import gensim\n",
    "from tqdm import tqdm\n",
    "from gensim.parsing.preprocessing import remove_stopwords\n",
    "import nltk\n",
    "from gensim.models import Word2Vec\n",
    "import pattern\n",
    "from pattern.en import lemma\n",
    "from sklearn.feature_extraction.text import TfidfVectorizer\n",
    "from sklearn.feature_extraction.text import CountVectorizer\n",
    "import scipy\n",
    "import pickle\n",
    "from sklearn.decomposition import PCA"
   ]
  },
  {
   "cell_type": "code",
   "execution_count": null,
   "metadata": {
    "execution": {
     "iopub.execute_input": "2021-12-06T08:36:05.392268Z",
     "iopub.status.busy": "2021-12-06T08:36:05.391964Z",
     "iopub.status.idle": "2021-12-06T08:36:15.969977Z",
     "shell.execute_reply": "2021-12-06T08:36:15.969302Z",
     "shell.execute_reply.started": "2021-12-06T08:36:05.392231Z"
    }
   },
   "outputs": [],
   "source": [
    "filehandler = open('../input/preprocessing/final_train_preprocessing.obj', 'rb') \n",
    "train_df = pickle.load(filehandler)"
   ]
  },
  {
   "cell_type": "code",
   "execution_count": null,
   "metadata": {
    "execution": {
     "iopub.execute_input": "2021-12-06T08:36:15.971719Z",
     "iopub.status.busy": "2021-12-06T08:36:15.971397Z",
     "iopub.status.idle": "2021-12-06T08:36:16.002549Z",
     "shell.execute_reply": "2021-12-06T08:36:16.001726Z",
     "shell.execute_reply.started": "2021-12-06T08:36:15.971693Z"
    }
   },
   "outputs": [],
   "source": [
    "train_df"
   ]
  },
  {
   "cell_type": "code",
   "execution_count": null,
   "metadata": {
    "execution": {
     "iopub.execute_input": "2021-12-06T08:36:16.00407Z",
     "iopub.status.busy": "2021-12-06T08:36:16.003774Z",
     "iopub.status.idle": "2021-12-06T08:36:16.00818Z",
     "shell.execute_reply": "2021-12-06T08:36:16.007346Z",
     "shell.execute_reply.started": "2021-12-06T08:36:16.004029Z"
    }
   },
   "outputs": [],
   "source": [
    "target=train_df['Target']"
   ]
  },
  {
   "cell_type": "code",
   "execution_count": null,
   "metadata": {
    "execution": {
     "iopub.execute_input": "2021-12-06T08:36:16.010342Z",
     "iopub.status.busy": "2021-12-06T08:36:16.010091Z",
     "iopub.status.idle": "2021-12-06T08:36:16.035412Z",
     "shell.execute_reply": "2021-12-06T08:36:16.034555Z",
     "shell.execute_reply.started": "2021-12-06T08:36:16.010315Z"
    }
   },
   "outputs": [],
   "source": [
    "filehandler = open('target.obj', 'wb') \n",
    "pickle.dump(target, filehandler)"
   ]
  },
  {
   "cell_type": "code",
   "execution_count": null,
   "metadata": {
    "execution": {
     "iopub.execute_input": "2021-12-06T08:36:16.036841Z",
     "iopub.status.busy": "2021-12-06T08:36:16.036612Z",
     "iopub.status.idle": "2021-12-06T08:36:16.043874Z",
     "shell.execute_reply": "2021-12-06T08:36:16.043154Z",
     "shell.execute_reply.started": "2021-12-06T08:36:16.036814Z"
    }
   },
   "outputs": [],
   "source": [
    "target"
   ]
  },
  {
   "cell_type": "code",
   "execution_count": null,
   "metadata": {
    "execution": {
     "iopub.execute_input": "2021-12-06T08:36:16.045684Z",
     "iopub.status.busy": "2021-12-06T08:36:16.045012Z",
     "iopub.status.idle": "2021-12-06T08:36:16.06844Z",
     "shell.execute_reply": "2021-12-06T08:36:16.06751Z",
     "shell.execute_reply.started": "2021-12-06T08:36:16.045651Z"
    }
   },
   "outputs": [],
   "source": [
    "filehandler = open('./target.obj', 'rb') \n",
    "target = pickle.load(filehandler)"
   ]
  },
  {
   "cell_type": "code",
   "execution_count": null,
   "metadata": {
    "execution": {
     "iopub.execute_input": "2021-12-06T08:36:16.07016Z",
     "iopub.status.busy": "2021-12-06T08:36:16.069819Z",
     "iopub.status.idle": "2021-12-06T08:36:16.255758Z",
     "shell.execute_reply": "2021-12-06T08:36:16.254818Z",
     "shell.execute_reply.started": "2021-12-06T08:36:16.070121Z"
    }
   },
   "outputs": [],
   "source": [
    "train_df[\"Target\"].value_counts()"
   ]
  },
  {
   "cell_type": "code",
   "execution_count": null,
   "metadata": {},
   "outputs": [],
   "source": [
    "Heading_tfidf_vectorizer = TfidfVectorizer(ngram_range=(1, 2), \n",
    "                                   min_df = 2, \n",
    "                                   max_df = .95)\n",
    "Heading_tfidf_vectorizer_val=Heading_tfidf_vectorizer.fit_transform(train_df['Heading'])"
   ]
  },
  {
   "cell_type": "code",
   "execution_count": null,
   "metadata": {
    "execution": {
     "iopub.execute_input": "2021-12-06T08:36:17.334523Z",
     "iopub.status.busy": "2021-12-06T08:36:17.333674Z",
     "iopub.status.idle": "2021-12-06T08:36:51.434392Z",
     "shell.execute_reply": "2021-12-06T08:36:51.433552Z",
     "shell.execute_reply.started": "2021-12-06T08:36:17.334477Z"
    }
   },
   "outputs": [],
   "source": [
    "Heading_tfidf_vectorizer = CountVectorizer(ngram_range=(1,2))\n",
    "Heading_tfidf_vectorizer_val=Heading_tfidf_vectorizer.fit_transform(train_df['Heading'])"
   ]
  },
  {
   "cell_type": "code",
   "execution_count": null,
   "metadata": {
    "execution": {
     "iopub.execute_input": "2021-12-06T08:36:51.43636Z",
     "iopub.status.busy": "2021-12-06T08:36:51.436088Z",
     "iopub.status.idle": "2021-12-06T08:36:51.455688Z",
     "shell.execute_reply": "2021-12-06T08:36:51.454863Z",
     "shell.execute_reply.started": "2021-12-06T08:36:51.436331Z"
    }
   },
   "outputs": [],
   "source": [
    "train_df"
   ]
  },
  {
   "cell_type": "code",
   "execution_count": null,
   "metadata": {
    "execution": {
     "iopub.execute_input": "2021-12-06T08:36:51.45732Z",
     "iopub.status.busy": "2021-12-06T08:36:51.457085Z",
     "iopub.status.idle": "2021-12-06T08:36:52.647184Z",
     "shell.execute_reply": "2021-12-06T08:36:52.646418Z",
     "shell.execute_reply.started": "2021-12-06T08:36:51.457294Z"
    }
   },
   "outputs": [],
   "source": [
    "filehandler = open('Heading.obj', 'wb') \n",
    "pickle.dump(Heading_tfidf_vectorizer, filehandler)"
   ]
  },
  {
   "cell_type": "code",
   "execution_count": null,
   "metadata": {
    "execution": {
     "iopub.execute_input": "2021-12-06T08:36:52.649323Z",
     "iopub.status.busy": "2021-12-06T08:36:52.649056Z",
     "iopub.status.idle": "2021-12-06T08:36:53.818639Z",
     "shell.execute_reply": "2021-12-06T08:36:53.817708Z",
     "shell.execute_reply.started": "2021-12-06T08:36:52.649293Z"
    }
   },
   "outputs": [],
   "source": [
    "filehandler = open('./Heading.obj', 'rb') \n",
    "Heading_tfidf_vectorizer = pickle.load(filehandler)"
   ]
  },
  {
   "cell_type": "code",
   "execution_count": null,
   "metadata": {
    "execution": {
     "iopub.execute_input": "2021-12-06T07:04:33.119656Z",
     "iopub.status.busy": "2021-12-06T07:04:33.119421Z",
     "iopub.status.idle": "2021-12-06T07:04:34.220316Z",
     "shell.execute_reply": "2021-12-06T07:04:34.218818Z",
     "shell.execute_reply.started": "2021-12-06T07:04:33.119597Z"
    }
   },
   "outputs": [],
   "source": [
    "MainText_tfidf_vectorizer = TfidfVectorizer(ngram_range=(1, 2), \n",
    "                                   min_df = 2, \n",
    "                                   max_df = .95)\n",
    "MainText_tfidf_vectorizer_val=MainText_tfidf_vectorizer.fit_transform(train_df['MainText'])"
   ]
  },
  {
   "cell_type": "code",
   "execution_count": null,
   "metadata": {
    "execution": {
     "iopub.execute_input": "2021-12-06T08:13:39.181348Z",
     "iopub.status.busy": "2021-12-06T08:13:39.180584Z",
     "iopub.status.idle": "2021-12-06T08:21:00.475246Z",
     "shell.execute_reply": "2021-12-06T08:21:00.474195Z",
     "shell.execute_reply.started": "2021-12-06T08:13:39.181313Z"
    }
   },
   "outputs": [],
   "source": [
    "MainText_tfidf_vectorizer = CountVectorizer(ngram_range=(1,2))\n",
    "MainText_tfidf_vectorizer_val=MainText_tfidf_vectorizer.fit_transform(train_df['MainText'])"
   ]
  },
  {
   "cell_type": "code",
   "execution_count": null,
   "metadata": {
    "execution": {
     "iopub.execute_input": "2021-12-06T08:21:00.478223Z",
     "iopub.status.busy": "2021-12-06T08:21:00.476965Z",
     "iopub.status.idle": "2021-12-06T08:21:15.530779Z",
     "shell.execute_reply": "2021-12-06T08:21:15.530178Z",
     "shell.execute_reply.started": "2021-12-06T08:21:00.478159Z"
    }
   },
   "outputs": [],
   "source": [
    "filehandler = open('MainText.obj', 'wb') \n",
    "pickle.dump(MainText_tfidf_vectorizer, filehandler)"
   ]
  },
  {
   "cell_type": "code",
   "execution_count": null,
   "metadata": {
    "execution": {
     "iopub.execute_input": "2021-12-06T08:36:53.820499Z",
     "iopub.status.busy": "2021-12-06T08:36:53.820272Z",
     "iopub.status.idle": "2021-12-06T08:37:11.763822Z",
     "shell.execute_reply": "2021-12-06T08:37:11.763158Z",
     "shell.execute_reply.started": "2021-12-06T08:36:53.820472Z"
    }
   },
   "outputs": [],
   "source": [
    "filehandler = open('./MainText.obj', 'rb') \n",
    "MainText_tfidf_vectorizer = pickle.load(filehandler)"
   ]
  },
  {
   "cell_type": "code",
   "execution_count": null,
   "metadata": {
    "execution": {
     "iopub.execute_input": "2021-12-06T08:21:32.100175Z",
     "iopub.status.busy": "2021-12-06T08:21:32.099803Z",
     "iopub.status.idle": "2021-12-06T08:21:32.811643Z",
     "shell.execute_reply": "2021-12-06T08:21:32.810704Z",
     "shell.execute_reply.started": "2021-12-06T08:21:32.100129Z"
    }
   },
   "outputs": [],
   "source": [
    "train_df[train_df.isna().any(axis=1)]"
   ]
  },
  {
   "cell_type": "code",
   "execution_count": null,
   "metadata": {},
   "outputs": [],
   "source": [
    "Subject_tfidf_vectorizer = TfidfVectorizer(ngram_range=(1, 2), \n",
    "                                   min_df = 2, \n",
    "                                   max_df = .95)\n",
    "Subject_tfidf_vectorizer_val=Subject_tfidf_vectorizer.fit_transform(train_df['Subject'])"
   ]
  },
  {
   "cell_type": "code",
   "execution_count": null,
   "metadata": {
    "execution": {
     "iopub.execute_input": "2021-12-06T08:21:32.813514Z",
     "iopub.status.busy": "2021-12-06T08:21:32.813144Z",
     "iopub.status.idle": "2021-12-06T08:21:48.991194Z",
     "shell.execute_reply": "2021-12-06T08:21:48.990575Z",
     "shell.execute_reply.started": "2021-12-06T08:21:32.813473Z"
    }
   },
   "outputs": [],
   "source": [
    "Subject_tfidf_vectorizer = CountVectorizer(ngram_range=(1,2))\n",
    "Subject_tfidf_vectorizer_val=Subject_tfidf_vectorizer.fit_transform(train_df['Subject'])"
   ]
  },
  {
   "cell_type": "code",
   "execution_count": null,
   "metadata": {
    "execution": {
     "iopub.execute_input": "2021-12-06T08:21:48.994556Z",
     "iopub.status.busy": "2021-12-06T08:21:48.994075Z",
     "iopub.status.idle": "2021-12-06T08:21:49.248457Z",
     "shell.execute_reply": "2021-12-06T08:21:49.247705Z",
     "shell.execute_reply.started": "2021-12-06T08:21:48.994511Z"
    }
   },
   "outputs": [],
   "source": [
    "filehandler = open('Subject.obj', 'wb') \n",
    "pickle.dump(Subject_tfidf_vectorizer, filehandler)"
   ]
  },
  {
   "cell_type": "code",
   "execution_count": null,
   "metadata": {
    "execution": {
     "iopub.execute_input": "2021-12-06T08:37:11.765291Z",
     "iopub.status.busy": "2021-12-06T08:37:11.764889Z",
     "iopub.status.idle": "2021-12-06T08:37:12.057122Z",
     "shell.execute_reply": "2021-12-06T08:37:12.056201Z",
     "shell.execute_reply.started": "2021-12-06T08:37:11.765255Z"
    }
   },
   "outputs": [],
   "source": [
    "filehandler = open('./Subject.obj', 'rb') \n",
    "Subject_tfidf_vectorizer = pickle.load(filehandler)"
   ]
  },
  {
   "cell_type": "code",
   "execution_count": null,
   "metadata": {
    "execution": {
     "iopub.execute_input": "2021-12-06T08:37:12.059361Z",
     "iopub.status.busy": "2021-12-06T08:37:12.058976Z",
     "iopub.status.idle": "2021-12-06T08:37:12.080818Z",
     "shell.execute_reply": "2021-12-06T08:37:12.079606Z",
     "shell.execute_reply.started": "2021-12-06T08:37:12.059317Z"
    }
   },
   "outputs": [],
   "source": [
    "train_df=scipy.sparse.hstack([Heading_tfidf_vectorizer_val,MainText_tfidf_vectorizer_val,Subject_tfidf_vectorizer_val,scipy.sparse.csr_matrix(train_df[['Karma','NumAnswers','Diff_time']])])"
   ]
  },
  {
   "cell_type": "code",
   "execution_count": null,
   "metadata": {
    "execution": {
     "iopub.execute_input": "2021-12-06T08:47:26.97899Z",
     "iopub.status.busy": "2021-12-06T08:47:26.97861Z",
     "iopub.status.idle": "2021-12-06T08:47:26.985787Z",
     "shell.execute_reply": "2021-12-06T08:47:26.984767Z",
     "shell.execute_reply.started": "2021-12-06T08:47:26.978948Z"
    }
   },
   "outputs": [],
   "source": [
    "type(train_df)"
   ]
  },
  {
   "cell_type": "code",
   "execution_count": null,
   "metadata": {
    "execution": {
     "iopub.status.busy": "2021-12-06T08:37:12.084365Z",
     "iopub.status.idle": "2021-12-06T08:37:12.084831Z",
     "shell.execute_reply": "2021-12-06T08:37:12.084602Z",
     "shell.execute_reply.started": "2021-12-06T08:37:12.084577Z"
    }
   },
   "outputs": [],
   "source": [
    "train_df=scipy.sparse.csr_matrix(train_df)"
   ]
  },
  {
   "cell_type": "code",
   "execution_count": null,
   "metadata": {
    "execution": {
     "iopub.status.busy": "2021-12-06T08:37:12.086567Z",
     "iopub.status.idle": "2021-12-06T08:37:12.087246Z",
     "shell.execute_reply": "2021-12-06T08:37:12.086953Z",
     "shell.execute_reply.started": "2021-12-06T08:37:12.086922Z"
    }
   },
   "outputs": [],
   "source": [
    "filehandler = open('train_df.obj', 'wb') \n",
    "pickle.dump(train_df, filehandler)"
   ]
  },
  {
   "cell_type": "code",
   "execution_count": null,
   "metadata": {
    "execution": {
     "iopub.status.busy": "2021-12-06T08:37:12.088727Z",
     "iopub.status.idle": "2021-12-06T08:37:12.089238Z",
     "shell.execute_reply": "2021-12-06T08:37:12.088968Z",
     "shell.execute_reply.started": "2021-12-06T08:37:12.088944Z"
    }
   },
   "outputs": [],
   "source": [
    "filehandler = open('./train_df.obj', 'rb') \n",
    "train_df = pickle.load(filehandler)"
   ]
  },
  {
   "cell_type": "code",
   "execution_count": null,
   "metadata": {
    "execution": {
     "iopub.status.busy": "2021-12-06T08:37:12.090596Z",
     "iopub.status.idle": "2021-12-06T08:37:12.091078Z",
     "shell.execute_reply": "2021-12-06T08:37:12.09085Z",
     "shell.execute_reply.started": "2021-12-06T08:37:12.090825Z"
    }
   },
   "outputs": [],
   "source": [
    "type(train_df)"
   ]
  },
  {
   "cell_type": "code",
   "execution_count": null,
   "metadata": {},
   "outputs": [],
   "source": [
    "from sklearn.naive_bayes import MultinomialNB\n",
    "clf = MultinomialNB()\n",
    "clf.partial_fit(train_df, target,classes=[0,1,2,3,4])"
   ]
  },
  {
   "cell_type": "code",
   "execution_count": null,
   "metadata": {},
   "outputs": [],
   "source": [
    "target"
   ]
  },
  {
   "cell_type": "code",
   "execution_count": null,
   "metadata": {
    "execution": {
     "iopub.execute_input": "2021-12-06T08:35:29.162798Z",
     "iopub.status.busy": "2021-12-06T08:35:29.16225Z",
     "iopub.status.idle": "2021-12-06T08:35:30.144823Z",
     "shell.execute_reply": "2021-12-06T08:35:30.143547Z",
     "shell.execute_reply.started": "2021-12-06T08:35:29.162744Z"
    }
   },
   "outputs": [],
   "source": [
    "from sklearn.naive_bayes import ComplementNB\n",
    "clf = ComplementNB()\n",
    "clf.fit(train_df, target)"
   ]
  },
  {
   "cell_type": "code",
   "execution_count": null,
   "metadata": {},
   "outputs": [],
   "source": [
    "from sklearn.linear_model import LogisticRegression\n",
    "clf = LogisticRegression()\n",
    "clf.fit(train_df, target)"
   ]
  },
  {
   "cell_type": "code",
   "execution_count": null,
   "metadata": {},
   "outputs": [],
   "source": [
    "from sklearn.linear_model import SGDClassifier\n",
    "clf = SGDClassifier()\n",
    "clf.partial_fit(train_df,target,classes=[0,1,2,3,4])"
   ]
  },
  {
   "cell_type": "code",
   "execution_count": null,
   "metadata": {},
   "outputs": [],
   "source": [
    "from sklearn.svm import SVC\n",
    "clf = SVC(class_weight=\"balanced\")\n",
    "clf.fit(train_df,target)"
   ]
  },
  {
   "cell_type": "code",
   "execution_count": null,
   "metadata": {},
   "outputs": [],
   "source": [
    "from sklearn.ensemble import RandomForestClassifier\n",
    "clf = RandomForestClassifier(class_weight=\"balanced\")\n",
    "clf.fit(train_df,target)"
   ]
  },
  {
   "cell_type": "code",
   "execution_count": null,
   "metadata": {},
   "outputs": [],
   "source": [
    "from imblearn.ensemble import BalancedRandomForestClassifier\n",
    "                                            \n",
    "clf = BalancedRandomForestClassifier(random_state=0)\n",
    "clf.fit(train_df, target) "
   ]
  },
  {
   "cell_type": "code",
   "execution_count": null,
   "metadata": {},
   "outputs": [],
   "source": [
    "from imblearn.ensemble import RUSBoostClassifier\n",
    "                                            \n",
    "clf = RUSBoostClassifier(random_state=0)\n",
    "clf.fit(train_df, target) "
   ]
  },
  {
   "cell_type": "code",
   "execution_count": null,
   "metadata": {},
   "outputs": [],
   "source": [
    "train_df.shape"
   ]
  },
  {
   "cell_type": "code",
   "execution_count": null,
   "metadata": {},
   "outputs": [],
   "source": [
    "from sklearn.decomposition import TruncatedSVD \n",
    "pca = TruncatedSVD (n_components=)\n",
    "train_df_new=pca.fit_transform(train_df)"
   ]
  },
  {
   "cell_type": "code",
   "execution_count": null,
   "metadata": {},
   "outputs": [],
   "source": [
    "type(train_df_new)"
   ]
  },
  {
   "cell_type": "code",
   "execution_count": null,
   "metadata": {
    "execution": {
     "iopub.status.busy": "2021-12-06T08:37:12.092196Z",
     "iopub.status.idle": "2021-12-06T08:37:12.092704Z",
     "shell.execute_reply": "2021-12-06T08:37:12.092431Z",
     "shell.execute_reply.started": "2021-12-06T08:37:12.092405Z"
    }
   },
   "outputs": [],
   "source": [
    "from sklearn.naive_bayes import BernoulliNB\n",
    "clf = BernoulliNB()\n",
    "clf.partial_fit(train_df, target,classes=[0,1,2,3,4])"
   ]
  },
  {
   "cell_type": "code",
   "execution_count": null,
   "metadata": {},
   "outputs": [],
   "source": [
    "# Gaussian NB is not suitable for this problem\n",
    "from sklearn.naive_bayes import GaussianNB\n",
    "clf = GaussianNB()\n",
    "clf.partial_fit(train_df.toarray(), target,classes=[0,1,2,3,4])"
   ]
  },
  {
   "cell_type": "code",
   "execution_count": null,
   "metadata": {},
   "outputs": [],
   "source": [
    "from sklearn.naive_bayes import CategoricalNB\n",
    "clf = CategoricalNB()\n",
    "clf.partial_fit(train_df, target,classes=[0,1,2,3,4])"
   ]
  },
  {
   "cell_type": "code",
   "execution_count": null,
   "metadata": {
    "execution": {
     "iopub.status.busy": "2021-12-06T08:37:12.093934Z",
     "iopub.status.idle": "2021-12-06T08:37:12.094412Z",
     "shell.execute_reply": "2021-12-06T08:37:12.094184Z",
     "shell.execute_reply.started": "2021-12-06T08:37:12.094156Z"
    }
   },
   "outputs": [],
   "source": [
    "filehandler = open('clf.obj', 'wb') \n",
    "pickle.dump(clf, filehandler)"
   ]
  },
  {
   "cell_type": "code",
   "execution_count": null,
   "metadata": {
    "execution": {
     "iopub.status.busy": "2021-12-06T08:37:12.095407Z",
     "iopub.status.idle": "2021-12-06T08:37:12.095862Z",
     "shell.execute_reply": "2021-12-06T08:37:12.095641Z",
     "shell.execute_reply.started": "2021-12-06T08:37:12.095617Z"
    }
   },
   "outputs": [],
   "source": [
    "filehandler = open('./clf.obj', 'rb') \n",
    "clf = pickle.load(filehandler)"
   ]
  },
  {
   "cell_type": "code",
   "execution_count": null,
   "metadata": {
    "execution": {
     "iopub.execute_input": "2021-12-06T08:23:21.440462Z",
     "iopub.status.busy": "2021-12-06T08:23:21.439754Z",
     "iopub.status.idle": "2021-12-06T08:23:32.012974Z",
     "shell.execute_reply": "2021-12-06T08:23:32.012207Z",
     "shell.execute_reply.started": "2021-12-06T08:23:21.440413Z"
    }
   },
   "outputs": [],
   "source": [
    "filehandler = open('../input/preprocessing/final_test_preprocessing.obj', 'rb') \n",
    "test_df = pickle.load(filehandler)"
   ]
  },
  {
   "cell_type": "code",
   "execution_count": null,
   "metadata": {
    "execution": {
     "iopub.execute_input": "2021-12-06T08:23:32.014695Z",
     "iopub.status.busy": "2021-12-06T08:23:32.01434Z",
     "iopub.status.idle": "2021-12-06T08:23:32.041147Z",
     "shell.execute_reply": "2021-12-06T08:23:32.040296Z",
     "shell.execute_reply.started": "2021-12-06T08:23:32.014666Z"
    }
   },
   "outputs": [],
   "source": [
    "test_df"
   ]
  },
  {
   "cell_type": "code",
   "execution_count": null,
   "metadata": {
    "execution": {
     "iopub.execute_input": "2021-12-06T08:23:32.0433Z",
     "iopub.status.busy": "2021-12-06T08:23:32.042528Z",
     "iopub.status.idle": "2021-12-06T08:23:32.439489Z",
     "shell.execute_reply": "2021-12-06T08:23:32.438586Z",
     "shell.execute_reply.started": "2021-12-06T08:23:32.043257Z"
    }
   },
   "outputs": [],
   "source": [
    "test_df[test_df.isna().any(axis=1)]"
   ]
  },
  {
   "cell_type": "code",
   "execution_count": null,
   "metadata": {
    "execution": {
     "iopub.execute_input": "2021-12-06T08:23:32.442271Z",
     "iopub.status.busy": "2021-12-06T08:23:32.441777Z",
     "iopub.status.idle": "2021-12-06T08:23:32.449131Z",
     "shell.execute_reply": "2021-12-06T08:23:32.448376Z",
     "shell.execute_reply.started": "2021-12-06T08:23:32.442227Z"
    }
   },
   "outputs": [],
   "source": [
    "Heading_tfidf_vectorizer"
   ]
  },
  {
   "cell_type": "code",
   "execution_count": null,
   "metadata": {
    "execution": {
     "iopub.execute_input": "2021-12-06T08:23:32.450535Z",
     "iopub.status.busy": "2021-12-06T08:23:32.450256Z",
     "iopub.status.idle": "2021-12-06T08:23:32.460476Z",
     "shell.execute_reply": "2021-12-06T08:23:32.459738Z",
     "shell.execute_reply.started": "2021-12-06T08:23:32.450502Z"
    }
   },
   "outputs": [],
   "source": [
    "qid=test_df[\"Qid\"]"
   ]
  },
  {
   "cell_type": "code",
   "execution_count": null,
   "metadata": {
    "execution": {
     "iopub.execute_input": "2021-12-06T08:23:32.46404Z",
     "iopub.status.busy": "2021-12-06T08:23:32.46381Z",
     "iopub.status.idle": "2021-12-06T08:23:32.486313Z",
     "shell.execute_reply": "2021-12-06T08:23:32.485413Z",
     "shell.execute_reply.started": "2021-12-06T08:23:32.464013Z"
    }
   },
   "outputs": [],
   "source": [
    "filehandler = open('qid.obj', 'wb') \n",
    "pickle.dump(qid, filehandler)"
   ]
  },
  {
   "cell_type": "code",
   "execution_count": null,
   "metadata": {
    "execution": {
     "iopub.status.busy": "2021-12-06T08:37:12.097763Z",
     "iopub.status.idle": "2021-12-06T08:37:12.098277Z",
     "shell.execute_reply": "2021-12-06T08:37:12.098015Z",
     "shell.execute_reply.started": "2021-12-06T08:37:12.09799Z"
    }
   },
   "outputs": [],
   "source": [
    "filehandler = open('./qid.obj', 'rb') \n",
    "qid = pickle.load(filehandler)"
   ]
  },
  {
   "cell_type": "code",
   "execution_count": null,
   "metadata": {
    "execution": {
     "iopub.execute_input": "2021-12-06T08:23:32.508665Z",
     "iopub.status.busy": "2021-12-06T08:23:32.508353Z",
     "iopub.status.idle": "2021-12-06T08:28:57.945569Z",
     "shell.execute_reply": "2021-12-06T08:28:57.94456Z",
     "shell.execute_reply.started": "2021-12-06T08:23:32.508624Z"
    }
   },
   "outputs": [],
   "source": [
    "test_df=scipy.sparse.hstack([Heading_tfidf_vectorizer.transform(test_df['Heading']),MainText_tfidf_vectorizer.transform(test_df['MainText']),Subject_tfidf_vectorizer.transform(test_df['Subject']),scipy.sparse.csr_matrix(test_df[['Karma','NumAnswers','Diff_time']])])"
   ]
  },
  {
   "cell_type": "code",
   "execution_count": null,
   "metadata": {
    "execution": {
     "iopub.execute_input": "2021-12-06T08:28:57.947263Z",
     "iopub.status.busy": "2021-12-06T08:28:57.947009Z",
     "iopub.status.idle": "2021-12-06T08:29:13.122008Z",
     "shell.execute_reply": "2021-12-06T08:29:13.121351Z",
     "shell.execute_reply.started": "2021-12-06T08:28:57.947234Z"
    }
   },
   "outputs": [],
   "source": [
    "filehandler = open('test_df.obj', 'wb') \n",
    "pickle.dump(test_df, filehandler)"
   ]
  },
  {
   "cell_type": "code",
   "execution_count": null,
   "metadata": {
    "execution": {
     "iopub.execute_input": "2021-12-06T08:45:48.954227Z",
     "iopub.status.busy": "2021-12-06T08:45:48.95306Z",
     "iopub.status.idle": "2021-12-06T08:46:14.798545Z",
     "shell.execute_reply": "2021-12-06T08:46:14.796278Z",
     "shell.execute_reply.started": "2021-12-06T08:45:48.954174Z"
    }
   },
   "outputs": [],
   "source": [
    "filehandler = open('./test_df.obj', 'rb') \n",
    "test_df = pickle.load(filehandler)"
   ]
  },
  {
   "cell_type": "code",
   "execution_count": null,
   "metadata": {
    "execution": {
     "iopub.execute_input": "2021-12-06T08:46:14.801Z",
     "iopub.status.busy": "2021-12-06T08:46:14.800731Z",
     "iopub.status.idle": "2021-12-06T08:46:14.808381Z",
     "shell.execute_reply": "2021-12-06T08:46:14.807402Z",
     "shell.execute_reply.started": "2021-12-06T08:46:14.800968Z"
    }
   },
   "outputs": [],
   "source": [
    "test_df"
   ]
  },
  {
   "cell_type": "code",
   "execution_count": null,
   "metadata": {
    "execution": {
     "iopub.execute_input": "2021-12-06T08:46:14.809814Z",
     "iopub.status.busy": "2021-12-06T08:46:14.809595Z",
     "iopub.status.idle": "2021-12-06T08:46:14.841002Z",
     "shell.execute_reply": "2021-12-06T08:46:14.840121Z",
     "shell.execute_reply.started": "2021-12-06T08:46:14.809788Z"
    }
   },
   "outputs": [],
   "source": [
    "pred=clf.predict(test_df)"
   ]
  },
  {
   "cell_type": "code",
   "execution_count": null,
   "metadata": {
    "execution": {
     "iopub.status.busy": "2021-12-06T08:46:14.841859Z",
     "iopub.status.idle": "2021-12-06T08:46:14.842546Z",
     "shell.execute_reply": "2021-12-06T08:46:14.842384Z",
     "shell.execute_reply.started": "2021-12-06T08:46:14.842364Z"
    }
   },
   "outputs": [],
   "source": [
    "df3=pd.concat([pd.DataFrame(qid),pd.DataFrame(pred,columns=['Target'])], axis=1)"
   ]
  },
  {
   "cell_type": "code",
   "execution_count": null,
   "metadata": {
    "execution": {
     "iopub.status.busy": "2021-12-06T08:46:14.843416Z",
     "iopub.status.idle": "2021-12-06T08:46:14.843806Z",
     "shell.execute_reply": "2021-12-06T08:46:14.84367Z",
     "shell.execute_reply.started": "2021-12-06T08:46:14.843653Z"
    }
   },
   "outputs": [],
   "source": [
    "df3[\"Target\"].value_counts()"
   ]
  },
  {
   "cell_type": "code",
   "execution_count": null,
   "metadata": {
    "execution": {
     "iopub.status.busy": "2021-12-06T08:46:14.844625Z",
     "iopub.status.idle": "2021-12-06T08:46:14.845017Z",
     "shell.execute_reply": "2021-12-06T08:46:14.844883Z",
     "shell.execute_reply.started": "2021-12-06T08:46:14.844867Z"
    }
   },
   "outputs": [],
   "source": [
    "df3.to_csv(\"Bernoulli.csv\",index=False)"
   ]
  },
  {
   "cell_type": "code",
   "execution_count": null,
   "metadata": {},
   "outputs": [],
   "source": []
  },
  {
   "cell_type": "code",
   "execution_count": null,
   "metadata": {},
   "outputs": [],
   "source": []
  },
  {
   "cell_type": "code",
   "execution_count": null,
   "metadata": {},
   "outputs": [],
   "source": []
  },
  {
   "cell_type": "code",
   "execution_count": null,
   "metadata": {},
   "outputs": [],
   "source": []
  },
  {
   "cell_type": "code",
   "execution_count": null,
   "metadata": {},
   "outputs": [],
   "source": []
  },
  {
   "cell_type": "code",
   "execution_count": null,
   "metadata": {},
   "outputs": [],
   "source": []
  },
  {
   "cell_type": "code",
   "execution_count": null,
   "metadata": {},
   "outputs": [],
   "source": []
  },
  {
   "cell_type": "code",
   "execution_count": null,
   "metadata": {},
   "outputs": [],
   "source": []
  }
 ],
 "metadata": {
  "kernelspec": {
   "display_name": "Python 3",
   "language": "python",
   "name": "python3"
  },
  "language_info": {
   "codemirror_mode": {
    "name": "ipython",
    "version": 3
   },
   "file_extension": ".py",
   "mimetype": "text/x-python",
   "name": "python",
   "nbconvert_exporter": "python",
   "pygments_lexer": "ipython3",
   "version": "3.8.8"
  }
 },
 "nbformat": 4,
 "nbformat_minor": 4
}
